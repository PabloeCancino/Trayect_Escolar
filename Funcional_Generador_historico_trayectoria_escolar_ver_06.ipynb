{
  "nbformat": 4,
  "nbformat_minor": 0,
  "metadata": {
    "colab": {
      "provenance": [],
      "authorship_tag": "ABX9TyPhlQvzPcNKNBQRcyfar+1p",
      "include_colab_link": true
    },
    "kernelspec": {
      "name": "python3",
      "display_name": "Python 3"
    },
    "language_info": {
      "name": "python"
    }
  },
  "cells": [
    {
      "cell_type": "markdown",
      "metadata": {
        "id": "view-in-github",
        "colab_type": "text"
      },
      "source": [
        "<a href=\"https://colab.research.google.com/github/PabloeCancino/Trayectoria_Escolar/blob/master/Funcional_Generador_historico_trayectoria_escolar_ver_06.ipynb\" target=\"_parent\"><img src=\"https://colab.research.google.com/assets/colab-badge.svg\" alt=\"Open In Colab\"/></a>"
      ]
    },
    {
      "cell_type": "code",
      "execution_count": null,
      "metadata": {
        "colab": {
          "base_uri": "https://localhost:8080/"
        },
        "id": "iH-LTwuUU0Bb",
        "outputId": "64abfcfd-1af2-49c5-80bc-8b73995e175a"
      },
      "outputs": [
        {
          "output_type": "stream",
          "name": "stdout",
          "text": [
            "Collecting Faker\n",
            "  Downloading Faker-24.1.0-py3-none-any.whl (1.8 MB)\n",
            "\u001b[2K     \u001b[90m━━━━━━━━━━━━━━━━━━━━━━━━━━━━━━━━━━━━━━━━\u001b[0m \u001b[32m1.8/1.8 MB\u001b[0m \u001b[31m9.5 MB/s\u001b[0m eta \u001b[36m0:00:00\u001b[0m\n",
            "\u001b[?25hRequirement already satisfied: python-dateutil>=2.4 in /usr/local/lib/python3.10/dist-packages (from Faker) (2.8.2)\n",
            "Requirement already satisfied: six>=1.5 in /usr/local/lib/python3.10/dist-packages (from python-dateutil>=2.4->Faker) (1.16.0)\n",
            "Installing collected packages: Faker\n",
            "Successfully installed Faker-24.1.0\n"
          ]
        }
      ],
      "source": [
        "pip install Faker"
      ]
    },
    {
      "cell_type": "code",
      "source": [
        "!pip install pandas pymongo dnspython\n",
        "import pymongo\n",
        "from pymongo import MongoClient"
      ],
      "metadata": {
        "colab": {
          "base_uri": "https://localhost:8080/"
        },
        "id": "dA3geX6Jvhpb",
        "outputId": "5bc77238-2c8b-4eba-eae6-55b320ab5fe4"
      },
      "execution_count": null,
      "outputs": [
        {
          "output_type": "stream",
          "name": "stdout",
          "text": [
            "Requirement already satisfied: pandas in /usr/local/lib/python3.10/dist-packages (1.5.3)\n",
            "Collecting pymongo\n",
            "  Downloading pymongo-4.6.2-cp310-cp310-manylinux_2_17_x86_64.manylinux2014_x86_64.whl (677 kB)\n",
            "\u001b[2K     \u001b[90m━━━━━━━━━━━━━━━━━━━━━━━━━━━━━━━━━━━━━━━━\u001b[0m \u001b[32m677.2/677.2 kB\u001b[0m \u001b[31m8.2 MB/s\u001b[0m eta \u001b[36m0:00:00\u001b[0m\n",
            "\u001b[?25hCollecting dnspython\n",
            "  Downloading dnspython-2.6.1-py3-none-any.whl (307 kB)\n",
            "\u001b[2K     \u001b[90m━━━━━━━━━━━━━━━━━━━━━━━━━━━━━━━━━━━━━━━━\u001b[0m \u001b[32m307.7/307.7 kB\u001b[0m \u001b[31m15.5 MB/s\u001b[0m eta \u001b[36m0:00:00\u001b[0m\n",
            "\u001b[?25hRequirement already satisfied: python-dateutil>=2.8.1 in /usr/local/lib/python3.10/dist-packages (from pandas) (2.8.2)\n",
            "Requirement already satisfied: pytz>=2020.1 in /usr/local/lib/python3.10/dist-packages (from pandas) (2023.4)\n",
            "Requirement already satisfied: numpy>=1.21.0 in /usr/local/lib/python3.10/dist-packages (from pandas) (1.25.2)\n",
            "Requirement already satisfied: six>=1.5 in /usr/local/lib/python3.10/dist-packages (from python-dateutil>=2.8.1->pandas) (1.16.0)\n",
            "Installing collected packages: dnspython, pymongo\n",
            "Successfully installed dnspython-2.6.1 pymongo-4.6.2\n"
          ]
        }
      ]
    },
    {
      "cell_type": "code",
      "source": [
        "# -*- coding: utf-8 -*-\n",
        "\"\"\"\n",
        "Este script genera datos históricos de trayectorias escolares con una perspectiva institucional.\n",
        "\n",
        "Requiere la biblioteca Faker para generar datos ficticios. Favor de asegurarse de instalarla ejecutando:\n",
        "\n",
        "pip install Faker\n",
        "\n",
        "Este script asume que los archivos CSV necesarios están disponibles localmente o en una URL accesible.\n",
        "\"\"\"\n",
        "\n",
        "import pandas as pd\n",
        "import numpy as np\n",
        "import random as rnd\n",
        "import json\n",
        "from datetime import datetime\n",
        "import hashlib\n",
        "import subprocess\n",
        "import sys\n",
        "\n",
        "\n",
        "# Importar la biblioteca de Google Colab sólo si se está ejecutando en Colab\n",
        "try:\n",
        "    from google.colab import files\n",
        "    IN_COLAB = True\n",
        "except ImportError:\n",
        "    IN_COLAB = False\n",
        "\n",
        "# Asegurarse de que Faker esté instalado, si no, instalarlo\n",
        "try:\n",
        "    from faker import Faker\n",
        "except ImportError:\n",
        "    subprocess.check_call([sys.executable, \"-m\", \"pip\", \"install\", 'faker'])\n",
        "    from faker import Faker\n",
        "\n",
        "fake = Faker('es_MX')\n",
        "\n",
        "# Función para importar datos desde archivos CSV\n",
        "def importar_datos(url_o_path):\n",
        "    try:\n",
        "        return pd.read_csv(url_o_path)\n",
        "    except Exception as e:\n",
        "        print(f\"Error al importar datos desde {url_o_path}: {e}\")\n",
        "        return pd.DataFrame()\n",
        "\n",
        "# Importar bases de datos\n",
        "mapa_curricular = importar_datos(\"https://raw.githubusercontent.com/PabloeCancino/Trayectoria_Escolar/master/mapa_curricular_generador.csv\")\n",
        "Ingreso_Hist = importar_datos(\"https://raw.githubusercontent.com/PabloeCancino/Trayectoria_Escolar/master/Historico_ingreso_generador.csv\")\n",
        "nomFem = importar_datos(\"https://raw.githubusercontent.com/PabloeCancino/Trayectoria_Escolar/master/raw/nomFem.csv\")\n",
        "nomMasc = importar_datos(\"https://raw.githubusercontent.com/PabloeCancino/Trayectoria_Escolar/master/raw/nomMasc.csv\")\n",
        "\n",
        "# Extraer los valores únicos de 'U_de_Aprend' para usarlos como encabezados de columna\n",
        "u_de_aprend_encabezados = mapa_curricular[\"U_de_Aprend\"].unique()\n",
        "\n",
        "# Diccionario de mapeo para relacionar U_de_Aprend con ColCurr\n",
        "ua_semestre = pd.Series(mapa_curricular['semestre'].values, index=mapa_curricular['U_de_Aprend']).to_dict()\n",
        "\n",
        "# DataFrame principal inicializado\n",
        "df_principal = pd.DataFrame()\n",
        "\n",
        "# Funciones necesarias\n",
        "def generar_numeros_unicos(num, digitos=4):\n",
        "    \"\"\"Genera un conjunto de números únicos de longitud especificada.\"\"\"\n",
        "    numeros = set()\n",
        "    while len(numeros) < num:\n",
        "        nuevo_numero = rnd.randint(0, 10**digitos)\n",
        "        numeros.add(f\"{nuevo_numero:0{digitos}d}\")\n",
        "    return list(numeros)\n",
        "\n",
        "def generar_estructura_calificaciones(perfil, Ingreso, semestre):\n",
        "    \"\"\"Genera una estructura de calificaciones basada en el perfil, año de ingreso y columna curricular.\"\"\"\n",
        "    estructura = []\n",
        "\n",
        "    oportunidad, i = 1, 1\n",
        "    while oportunidad < 7:\n",
        "        calificación_obtenida = generar_calif_aleatoria_por_perfil(perfil) if oportunidad == i else None\n",
        "        fecha_generada = generar_fecha(Ingreso, semestre, oportunidad) if oportunidad == i else None\n",
        "        docente = fake.name() if oportunidad == i else None\n",
        "\n",
        "        estructura.append({\n",
        "            'oport': oportunidad,\n",
        "            'calif': calificación_obtenida,\n",
        "            'fecha': fecha_generada,\n",
        "            'docente': docente,\n",
        "            'acta': rnd.randint(100000,999999)\n",
        "        })\n",
        "\n",
        "        # Si la calificación es menor a 60 y aún hay oportunidades disponibles, continuar el ciclo\n",
        "        if calificación_obtenida is not None and calificación_obtenida < 60:\n",
        "            oportunidad += 1\n",
        "            i += 1\n",
        "        else:\n",
        "            break\n",
        "\n",
        "    return estructura\n",
        "\n",
        "\n",
        "def generar_calif_aleatoria_por_perfil(perfil):\n",
        "    \"\"\"Genera una calificación aleatoria basada en el perfil del estudiante.\"\"\"\n",
        "    rangos = {\n",
        "        'A': (90, 98),\n",
        "        'MA': (83, 90),\n",
        "        'MB': (73, 83),\n",
        "        'B': (60, 73)\n",
        "    }\n",
        "    media, maximo = rangos.get(perfil, (0, 0))\n",
        "    desviacion = rnd.randint(8, 11)\n",
        "    calif = round(rnd.normalvariate(media, desviacion))\n",
        "    return max(0, min(calif, 100))\n",
        "\n",
        "def generar_fecha(Ingreso, semestre, oportunidad):\n",
        "    \"\"\"Genera una fecha de examen basada en el año de ingreso, semestre y oportunidad de examen.\"\"\"\n",
        "    ajustes_año = {\n",
        "        1: {1: 0, 2: 1, 3: 1, 4: 1, 5: 2},\n",
        "        2: {1: 1, 2: 1, 3: 1, 4: 1, 5: 2},\n",
        "        3: {1: 1, 2: 2, 3: 2, 4: 2, 5: 3},\n",
        "        4: {1: 2, 2: 2, 3: 2, 4: 2, 5: 3},\n",
        "        5: {1: 2, 2: 3, 3: 3, 4: 3, 5: 4},\n",
        "        6: {1: 3, 2: 3, 3: 3, 4: 3, 5: 4},\n",
        "        7: {1: 3, 2: 4, 3: 4, 4: 4, 5: 5},\n",
        "        8: {1: 4, 2: 4, 3: 4, 4: 4, 5: 5},\n",
        "    }\n",
        "    año_ajustado = Ingreso + ajustes_año.get(semestre, {1: 0}).get(oportunidad, 0)\n",
        "\n",
        "    ajustes_mes = {\n",
        "        1: {1: 12, 2: 1, 3: 2, 4: 12, 5: 1},\n",
        "        2: {1: 6, 2: 7, 3: 8, 4: 12, 5: 1},\n",
        "        3: {1: 12, 2: 1, 3: 2, 4: 12, 5: 1},\n",
        "        4: {1: 6, 2: 7, 3: 8, 4: 12, 5: 1},\n",
        "        5: {1: 12, 2: 1, 3: 2, 4: 12, 5: 1},\n",
        "        6: {1: 6, 2: 7, 3: 8, 4: 12, 5: 1},\n",
        "        7: {1: 12, 2: 1, 3: 2, 4: 12, 5: 1},\n",
        "        8: {1: 6, 2: 7, 3: 8, 4: 12, 5: 1},\n",
        "    }\n",
        "    mes_ajustado = ajustes_mes.get(semestre, {1: 12}).get(oportunidad, 11)\n",
        "\n",
        "    ajustes_dia = {\n",
        "        1: {1: 15, 2: 28, 3: 15, 4: 15, 5: 28},\n",
        "        2: {1: 25, 2: 28, 3: 15, 4: 15, 5: 28},\n",
        "        3: {1: 15, 2: 28, 3: 15, 4: 15, 5: 28},\n",
        "        4: {1: 25, 2: 28, 3: 15, 4: 15, 5: 28},\n",
        "        5: {1: 15, 2: 28, 3: 15, 4: 15, 5: 28},\n",
        "        6: {1: 25, 2: 28, 3: 15, 4: 15, 5: 28},\n",
        "        7: {1: 15, 2: 28, 3: 15, 4: 15, 5: 28},\n",
        "        8: {1: 25, 2: 28, 3: 15, 4: 15, 5: 28},\n",
        "    }\n",
        "    dia_ajustado = ajustes_dia.get(semestre, {1: 0}).get(oportunidad, 20)\n",
        "\n",
        "    if mes_ajustado < 1 or mes_ajustado > 12:\n",
        "      raise ValueError(f\"Mes ajustado inválido: {mes_ajustado}\")\n",
        "\n",
        "    if dia_ajustado < 1 or dia_ajustado > 31:\n",
        "      raise ValueError(f\"Día ajustado inválido: {dia_ajustado}\")\n",
        "\n",
        "    fecha = datetime(año_ajustado, mes_ajustado, dia_ajustado)\n",
        "    return fecha.strftime('%Y-%m-%d')\n",
        "\n",
        "def generar_oid():\n",
        "    \"\"\"Genera un pseudo ObjectId como en MongoDB.\"\"\"\n",
        "    return hashlib.md5(str(rnd.random()).encode()).hexdigest()[:24]\n",
        "\n",
        "def obtener_genero(ingresos):\n",
        "    sexoRnd = [fake.random_element(elements=('Masc', 'Fem')) for _ in range(ingresos)]\n",
        "    return sexoRnd\n",
        "\n",
        "def obtener_nombre_por_genero(sexoRndList):\n",
        "    nombres = []\n",
        "    for sexoRnd in sexoRndList:\n",
        "        if sexoRnd == 'Fem':\n",
        "            nombres.append(rnd.choice(nomFem['nombre'].tolist()) + ' ' + rnd.choice(nomFem['nombre'].tolist()))\n",
        "        elif sexoRnd == 'Masc':\n",
        "            nombres.append(rnd.choice(nomMasc['nombre'].tolist()) + ' ' + rnd.choice(nomMasc['nombre'].tolist()))\n",
        "        else:\n",
        "            nombres.append(\"Género no especificado correctamente\")\n",
        "    return nombres\n",
        "\n",
        "\n",
        "# Bucle principal para generar datos\n",
        "for año, ingresos in zip(Ingreso_Hist['generacion'], Ingreso_Hist['nvo_ingreso']):\n",
        "    numeros_unicos = generar_numeros_unicos(ingresos)\n",
        "    perfiles = ['A', 'MA', 'MB', 'B'] * (ingresos // 4 + 1)\n",
        "    rnd.shuffle(perfiles)\n",
        "    generos = obtener_genero(ingresos)\n",
        "    nombres = obtener_nombre_por_genero(generos)\n",
        "\n",
        "    df_temp = pd.DataFrame({\n",
        "        #'_id': [generar_oid() for _ in range(ingresos)],\n",
        "        'matricula': [f\"{año}{num}\" for num in numeros_unicos],\n",
        "        'ingreso': [año] * ingresos,\n",
        "        'nombre': nombres,\n",
        "        'apellidos': [fake.last_name() + ' ' + fake.last_name() for _ in range(ingresos)],\n",
        "        'perfil': perfiles[:ingresos],\n",
        "        'sexo': generos,\n",
        "        'regular': [fake.boolean(chance_of_getting_true=75) for _ in range(ingresos)],\n",
        "        'telefono': [[fake.phone_number(), fake.phone_number()] for _ in range(ingresos)]\n",
        "    })\n",
        "\n",
        "    for ua in u_de_aprend_encabezados:\n",
        "        semestre_actual = ua_semestre[ua]\n",
        "        df_temp[ua] = [generar_estructura_calificaciones(perfil, año, semestre_actual) for perfil in df_temp['perfil']]\n",
        "\n",
        "    df_principal = pd.concat([df_principal, df_temp], ignore_index=True)\n",
        "\n",
        "# Guardar o procesar df_principal según sea necesario\n",
        "# df_principal\n",
        "\n",
        "# Función personalizada para ajustar la serialización de '_id' y otros campos\n",
        "def my_converter(o):\n",
        "    if isinstance(o, np.generic):\n",
        "        return o.item()\n",
        "\n",
        "# Convertir el DataFrame a JSON con el formato deseado\n",
        "resultado_json = df_principal.to_json(orient=\"records\", default_handler=my_converter)\n",
        "\n",
        "# Modificar la cadena JSON para ajustar el formato de '_id'\n",
        "resultado_json_modificado = resultado_json.replace('\"_id\":', '\"_id\": {\"$oid\":')\n",
        "\n",
        "# Guardar el resultado en un archivo\n",
        "with open(\"db_historico_trayectoria_escolar.json\", \"w\") as archivo_json:\n",
        "    archivo_json.write(resultado_json_modificado)\n",
        "\n",
        "# Descargar el archivo si se ejecuta en un entorno que lo permite, como Google Colab\n",
        "if IN_COLAB:\n",
        "    files.download(\"db_historico_trayectoria_escolar.json\")"
      ],
      "metadata": {
        "id": "7BmmEDSQU2UD",
        "colab": {
          "base_uri": "https://localhost:8080/",
          "height": 17
        },
        "outputId": "49d20a39-219f-4874-bae9-ccbb5e060a2f"
      },
      "execution_count": null,
      "outputs": [
        {
          "output_type": "display_data",
          "data": {
            "text/plain": [
              "<IPython.core.display.Javascript object>"
            ],
            "application/javascript": [
              "\n",
              "    async function download(id, filename, size) {\n",
              "      if (!google.colab.kernel.accessAllowed) {\n",
              "        return;\n",
              "      }\n",
              "      const div = document.createElement('div');\n",
              "      const label = document.createElement('label');\n",
              "      label.textContent = `Downloading \"${filename}\": `;\n",
              "      div.appendChild(label);\n",
              "      const progress = document.createElement('progress');\n",
              "      progress.max = size;\n",
              "      div.appendChild(progress);\n",
              "      document.body.appendChild(div);\n",
              "\n",
              "      const buffers = [];\n",
              "      let downloaded = 0;\n",
              "\n",
              "      const channel = await google.colab.kernel.comms.open(id);\n",
              "      // Send a message to notify the kernel that we're ready.\n",
              "      channel.send({})\n",
              "\n",
              "      for await (const message of channel.messages) {\n",
              "        // Send a message to notify the kernel that we're ready.\n",
              "        channel.send({})\n",
              "        if (message.buffers) {\n",
              "          for (const buffer of message.buffers) {\n",
              "            buffers.push(buffer);\n",
              "            downloaded += buffer.byteLength;\n",
              "            progress.value = downloaded;\n",
              "          }\n",
              "        }\n",
              "      }\n",
              "      const blob = new Blob(buffers, {type: 'application/binary'});\n",
              "      const a = document.createElement('a');\n",
              "      a.href = window.URL.createObjectURL(blob);\n",
              "      a.download = filename;\n",
              "      div.appendChild(a);\n",
              "      a.click();\n",
              "      div.remove();\n",
              "    }\n",
              "  "
            ]
          },
          "metadata": {}
        },
        {
          "output_type": "display_data",
          "data": {
            "text/plain": [
              "<IPython.core.display.Javascript object>"
            ],
            "application/javascript": [
              "download(\"download_c8a3d9c3-0f55-46ea-a48a-23a749788fc7\", \"db_historico_trayectoria_escolar.json\", 3061412)"
            ]
          },
          "metadata": {}
        }
      ]
    },
    {
      "cell_type": "code",
      "source": [
        "# Guardar los resultados en un archivo txt\n",
        "df_principal.to_csv(\"db_historico_trayectoria_escolar.csv\", sep=',', index=False, encoding='utf-8')\n",
        "\n",
        "# Descargar el archivo de texto\n",
        "files.download(\"db_historico_trayectoria_escolar.csv\")"
      ],
      "metadata": {
        "colab": {
          "base_uri": "https://localhost:8080/",
          "height": 17
        },
        "id": "KupXkk_XXRUy",
        "outputId": "b8f4ef51-686c-4b01-863d-6ce233735e28"
      },
      "execution_count": null,
      "outputs": [
        {
          "output_type": "display_data",
          "data": {
            "text/plain": [
              "<IPython.core.display.Javascript object>"
            ],
            "application/javascript": [
              "\n",
              "    async function download(id, filename, size) {\n",
              "      if (!google.colab.kernel.accessAllowed) {\n",
              "        return;\n",
              "      }\n",
              "      const div = document.createElement('div');\n",
              "      const label = document.createElement('label');\n",
              "      label.textContent = `Downloading \"${filename}\": `;\n",
              "      div.appendChild(label);\n",
              "      const progress = document.createElement('progress');\n",
              "      progress.max = size;\n",
              "      div.appendChild(progress);\n",
              "      document.body.appendChild(div);\n",
              "\n",
              "      const buffers = [];\n",
              "      let downloaded = 0;\n",
              "\n",
              "      const channel = await google.colab.kernel.comms.open(id);\n",
              "      // Send a message to notify the kernel that we're ready.\n",
              "      channel.send({})\n",
              "\n",
              "      for await (const message of channel.messages) {\n",
              "        // Send a message to notify the kernel that we're ready.\n",
              "        channel.send({})\n",
              "        if (message.buffers) {\n",
              "          for (const buffer of message.buffers) {\n",
              "            buffers.push(buffer);\n",
              "            downloaded += buffer.byteLength;\n",
              "            progress.value = downloaded;\n",
              "          }\n",
              "        }\n",
              "      }\n",
              "      const blob = new Blob(buffers, {type: 'application/binary'});\n",
              "      const a = document.createElement('a');\n",
              "      a.href = window.URL.createObjectURL(blob);\n",
              "      a.download = filename;\n",
              "      div.appendChild(a);\n",
              "      a.click();\n",
              "      div.remove();\n",
              "    }\n",
              "  "
            ]
          },
          "metadata": {}
        },
        {
          "output_type": "display_data",
          "data": {
            "text/plain": [
              "<IPython.core.display.Javascript object>"
            ],
            "application/javascript": [
              "download(\"download_29a35ada-c436-452a-9779-a0b42edf4065\", \"db_historico_trayectoria_escolar.csv\", 2890975)"
            ]
          },
          "metadata": {}
        }
      ]
    },
    {
      "cell_type": "code",
      "source": [
        "# Guardar los resultados en un archivo json\n",
        "df_principal.to_json(\"db_historico_trayectoria_escolar.json\", orient=\"records\")\n",
        "\n",
        "# Descargar el archivo de texto\n",
        "files.download(\"db_historico_trayectoria_escolar.json\")"
      ],
      "metadata": {
        "colab": {
          "base_uri": "https://localhost:8080/",
          "height": 17
        },
        "id": "rCuMqvvHRJ6F",
        "outputId": "484bb59d-b828-40fc-e870-cb16cf28f0da"
      },
      "execution_count": null,
      "outputs": [
        {
          "output_type": "display_data",
          "data": {
            "text/plain": [
              "<IPython.core.display.Javascript object>"
            ],
            "application/javascript": [
              "\n",
              "    async function download(id, filename, size) {\n",
              "      if (!google.colab.kernel.accessAllowed) {\n",
              "        return;\n",
              "      }\n",
              "      const div = document.createElement('div');\n",
              "      const label = document.createElement('label');\n",
              "      label.textContent = `Downloading \"${filename}\": `;\n",
              "      div.appendChild(label);\n",
              "      const progress = document.createElement('progress');\n",
              "      progress.max = size;\n",
              "      div.appendChild(progress);\n",
              "      document.body.appendChild(div);\n",
              "\n",
              "      const buffers = [];\n",
              "      let downloaded = 0;\n",
              "\n",
              "      const channel = await google.colab.kernel.comms.open(id);\n",
              "      // Send a message to notify the kernel that we're ready.\n",
              "      channel.send({})\n",
              "\n",
              "      for await (const message of channel.messages) {\n",
              "        // Send a message to notify the kernel that we're ready.\n",
              "        channel.send({})\n",
              "        if (message.buffers) {\n",
              "          for (const buffer of message.buffers) {\n",
              "            buffers.push(buffer);\n",
              "            downloaded += buffer.byteLength;\n",
              "            progress.value = downloaded;\n",
              "          }\n",
              "        }\n",
              "      }\n",
              "      const blob = new Blob(buffers, {type: 'application/binary'});\n",
              "      const a = document.createElement('a');\n",
              "      a.href = window.URL.createObjectURL(blob);\n",
              "      a.download = filename;\n",
              "      div.appendChild(a);\n",
              "      a.click();\n",
              "      div.remove();\n",
              "    }\n",
              "  "
            ]
          },
          "metadata": {}
        },
        {
          "output_type": "display_data",
          "data": {
            "text/plain": [
              "<IPython.core.display.Javascript object>"
            ],
            "application/javascript": [
              "download(\"download_757b0f58-bfc9-40c0-aa54-5ba6fd838219\", \"db_historico_trayectoria_escolar.json\", 3052639)"
            ]
          },
          "metadata": {}
        }
      ]
    }
  ]
}